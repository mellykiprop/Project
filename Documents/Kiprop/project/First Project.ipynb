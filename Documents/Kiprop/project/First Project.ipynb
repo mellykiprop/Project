{
 "cells": [
  {
   "cell_type": "markdown",
   "id": "c3dbfb6e-69d0-447c-9ced-e1662b8dd2da",
   "metadata": {},
   "source": [
    "# Independent Project\n",
    "* **Creating Farming To Do List Manager**\n"
   ]
  },
  {
   "cell_type": "code",
   "execution_count": 1,
   "id": "333a3da1-fbb4-4b65-a608-9058218a8ab5",
   "metadata": {
    "tags": []
   },
   "outputs": [
    {
     "name": "stdout",
     "output_type": "stream",
     "text": [
      "Welcome to the Farming To-Do List Manager!\n",
      "Available Actions:\n",
      "1. Add Task\n",
      "2. Mark Task as Completed\n",
      "3. List Tasks\n",
      "4. Remove Task\n",
      "5. Quit\n"
     ]
    },
    {
     "name": "stdin",
     "output_type": "stream",
     "text": [
      "Select an action (1-5):  1\n",
      "Enter task name:  Get adequate land and prepare ready for planting\n"
     ]
    },
    {
     "name": "stdout",
     "output_type": "stream",
     "text": [
      "Task added!\n",
      "Available Actions:\n",
      "1. Add Task\n",
      "2. Mark Task as Completed\n",
      "3. List Tasks\n",
      "4. Remove Task\n",
      "5. Quit\n"
     ]
    },
    {
     "name": "stdin",
     "output_type": "stream",
     "text": [
      "Select an action (1-5):  3\n"
     ]
    },
    {
     "name": "stdout",
     "output_type": "stream",
     "text": [
      "Tasks:\n",
      "0. Get adequate land and prepare ready for planting - Not Completed\n",
      "Available Actions:\n",
      "1. Add Task\n",
      "2. Mark Task as Completed\n",
      "3. List Tasks\n",
      "4. Remove Task\n",
      "5. Quit\n"
     ]
    },
    {
     "name": "stdin",
     "output_type": "stream",
     "text": [
      "Select an action (1-5):  2\n",
      "Enter task index to mark as completed:  0\n"
     ]
    },
    {
     "name": "stdout",
     "output_type": "stream",
     "text": [
      "Task marked as completed!\n",
      "Available Actions:\n",
      "1. Add Task\n",
      "2. Mark Task as Completed\n",
      "3. List Tasks\n",
      "4. Remove Task\n",
      "5. Quit\n"
     ]
    },
    {
     "name": "stdin",
     "output_type": "stream",
     "text": [
      "Select an action (1-5):  1\n",
      "Enter task name:  Avail adequate farm inputs\n"
     ]
    },
    {
     "name": "stdout",
     "output_type": "stream",
     "text": [
      "Task added!\n",
      "Available Actions:\n",
      "1. Add Task\n",
      "2. Mark Task as Completed\n",
      "3. List Tasks\n",
      "4. Remove Task\n",
      "5. Quit\n"
     ]
    },
    {
     "name": "stdin",
     "output_type": "stream",
     "text": [
      "Select an action (1-5):  3\n"
     ]
    },
    {
     "name": "stdout",
     "output_type": "stream",
     "text": [
      "Tasks:\n",
      "0. Get adequate land and prepare ready for planting - Completed\n",
      "1. Avail adequate farm inputs - Not Completed\n",
      "Available Actions:\n",
      "1. Add Task\n",
      "2. Mark Task as Completed\n",
      "3. List Tasks\n",
      "4. Remove Task\n",
      "5. Quit\n"
     ]
    },
    {
     "name": "stdin",
     "output_type": "stream",
     "text": [
      "Select an action (1-5):  2\n",
      "Enter task index to mark as completed:  1\n"
     ]
    },
    {
     "name": "stdout",
     "output_type": "stream",
     "text": [
      "Task marked as completed!\n",
      "Available Actions:\n",
      "1. Add Task\n",
      "2. Mark Task as Completed\n",
      "3. List Tasks\n",
      "4. Remove Task\n",
      "5. Quit\n"
     ]
    },
    {
     "name": "stdin",
     "output_type": "stream",
     "text": [
      "Select an action (1-5):  1\n",
      "Enter task name:  Source out for adequate labour\n"
     ]
    },
    {
     "name": "stdout",
     "output_type": "stream",
     "text": [
      "Task added!\n",
      "Available Actions:\n",
      "1. Add Task\n",
      "2. Mark Task as Completed\n",
      "3. List Tasks\n",
      "4. Remove Task\n",
      "5. Quit\n"
     ]
    },
    {
     "name": "stdin",
     "output_type": "stream",
     "text": [
      "Select an action (1-5):  3\n"
     ]
    },
    {
     "name": "stdout",
     "output_type": "stream",
     "text": [
      "Tasks:\n",
      "0. Get adequate land and prepare ready for planting - Completed\n",
      "1. Avail adequate farm inputs - Completed\n",
      "2. Source out for adequate labour - Not Completed\n",
      "Available Actions:\n",
      "1. Add Task\n",
      "2. Mark Task as Completed\n",
      "3. List Tasks\n",
      "4. Remove Task\n",
      "5. Quit\n"
     ]
    },
    {
     "name": "stdin",
     "output_type": "stream",
     "text": [
      "Select an action (1-5):  2\n",
      "Enter task index to mark as completed:  2\n"
     ]
    },
    {
     "name": "stdout",
     "output_type": "stream",
     "text": [
      "Task marked as completed!\n",
      "Available Actions:\n",
      "1. Add Task\n",
      "2. Mark Task as Completed\n",
      "3. List Tasks\n",
      "4. Remove Task\n",
      "5. Quit\n"
     ]
    },
    {
     "name": "stdin",
     "output_type": "stream",
     "text": [
      "Select an action (1-5):  1\n",
      "Enter task name:  Undertake the actual planting\n"
     ]
    },
    {
     "name": "stdout",
     "output_type": "stream",
     "text": [
      "Task added!\n",
      "Available Actions:\n",
      "1. Add Task\n",
      "2. Mark Task as Completed\n",
      "3. List Tasks\n",
      "4. Remove Task\n",
      "5. Quit\n"
     ]
    },
    {
     "name": "stdin",
     "output_type": "stream",
     "text": [
      "Select an action (1-5):  3\n"
     ]
    },
    {
     "name": "stdout",
     "output_type": "stream",
     "text": [
      "Tasks:\n",
      "0. Get adequate land and prepare ready for planting - Completed\n",
      "1. Avail adequate farm inputs - Completed\n",
      "2. Source out for adequate labour - Completed\n",
      "3. Undertake the actual planting - Not Completed\n",
      "Available Actions:\n",
      "1. Add Task\n",
      "2. Mark Task as Completed\n",
      "3. List Tasks\n",
      "4. Remove Task\n",
      "5. Quit\n"
     ]
    },
    {
     "name": "stdin",
     "output_type": "stream",
     "text": [
      "Select an action (1-5):  2\n",
      "Enter task index to mark as completed:  3\n"
     ]
    },
    {
     "name": "stdout",
     "output_type": "stream",
     "text": [
      "Task marked as completed!\n",
      "Available Actions:\n",
      "1. Add Task\n",
      "2. Mark Task as Completed\n",
      "3. List Tasks\n",
      "4. Remove Task\n",
      "5. Quit\n"
     ]
    },
    {
     "name": "stdin",
     "output_type": "stream",
     "text": [
      "Select an action (1-5):  1\n",
      "Enter task name:  Monitor growth of palnts till maturity\n"
     ]
    },
    {
     "name": "stdout",
     "output_type": "stream",
     "text": [
      "Task added!\n",
      "Available Actions:\n",
      "1. Add Task\n",
      "2. Mark Task as Completed\n",
      "3. List Tasks\n",
      "4. Remove Task\n",
      "5. Quit\n"
     ]
    },
    {
     "name": "stdin",
     "output_type": "stream",
     "text": [
      "Select an action (1-5):  3\n"
     ]
    },
    {
     "name": "stdout",
     "output_type": "stream",
     "text": [
      "Tasks:\n",
      "0. Get adequate land and prepare ready for planting - Completed\n",
      "1. Avail adequate farm inputs - Completed\n",
      "2. Source out for adequate labour - Completed\n",
      "3. Undertake the actual planting - Completed\n",
      "4. Monitor growth of palnts till maturity - Not Completed\n",
      "Available Actions:\n",
      "1. Add Task\n",
      "2. Mark Task as Completed\n",
      "3. List Tasks\n",
      "4. Remove Task\n",
      "5. Quit\n"
     ]
    },
    {
     "name": "stdin",
     "output_type": "stream",
     "text": [
      "Select an action (1-5):  2\n",
      "Enter task index to mark as completed:  4\n"
     ]
    },
    {
     "name": "stdout",
     "output_type": "stream",
     "text": [
      "Task marked as completed!\n",
      "Available Actions:\n",
      "1. Add Task\n",
      "2. Mark Task as Completed\n",
      "3. List Tasks\n",
      "4. Remove Task\n",
      "5. Quit\n"
     ]
    },
    {
     "name": "stdin",
     "output_type": "stream",
     "text": [
      "Select an action (1-5):  1\n",
      "Enter task name:  Hervest, dry and sale surplus\n"
     ]
    },
    {
     "name": "stdout",
     "output_type": "stream",
     "text": [
      "Task added!\n",
      "Available Actions:\n",
      "1. Add Task\n",
      "2. Mark Task as Completed\n",
      "3. List Tasks\n",
      "4. Remove Task\n",
      "5. Quit\n"
     ]
    },
    {
     "name": "stdin",
     "output_type": "stream",
     "text": [
      "Select an action (1-5):  3\n"
     ]
    },
    {
     "name": "stdout",
     "output_type": "stream",
     "text": [
      "Tasks:\n",
      "0. Get adequate land and prepare ready for planting - Completed\n",
      "1. Avail adequate farm inputs - Completed\n",
      "2. Source out for adequate labour - Completed\n",
      "3. Undertake the actual planting - Completed\n",
      "4. Monitor growth of palnts till maturity - Completed\n",
      "5. Hervest, dry and sale surplus - Not Completed\n",
      "Available Actions:\n",
      "1. Add Task\n",
      "2. Mark Task as Completed\n",
      "3. List Tasks\n",
      "4. Remove Task\n",
      "5. Quit\n"
     ]
    },
    {
     "name": "stdin",
     "output_type": "stream",
     "text": [
      "Select an action (1-5):  2\n",
      "Enter task index to mark as completed:  5\n"
     ]
    },
    {
     "name": "stdout",
     "output_type": "stream",
     "text": [
      "Task marked as completed!\n",
      "Available Actions:\n",
      "1. Add Task\n",
      "2. Mark Task as Completed\n",
      "3. List Tasks\n",
      "4. Remove Task\n",
      "5. Quit\n"
     ]
    },
    {
     "name": "stdin",
     "output_type": "stream",
     "text": [
      "Select an action (1-5):  1\n",
      "Enter task name:  Get farm produce ready for next season\n"
     ]
    },
    {
     "name": "stdout",
     "output_type": "stream",
     "text": [
      "Task added!\n",
      "Available Actions:\n",
      "1. Add Task\n",
      "2. Mark Task as Completed\n",
      "3. List Tasks\n",
      "4. Remove Task\n",
      "5. Quit\n"
     ]
    },
    {
     "name": "stdin",
     "output_type": "stream",
     "text": [
      "Select an action (1-5):  3\n"
     ]
    },
    {
     "name": "stdout",
     "output_type": "stream",
     "text": [
      "Tasks:\n",
      "0. Get adequate land and prepare ready for planting - Completed\n",
      "1. Avail adequate farm inputs - Completed\n",
      "2. Source out for adequate labour - Completed\n",
      "3. Undertake the actual planting - Completed\n",
      "4. Monitor growth of palnts till maturity - Completed\n",
      "5. Hervest, dry and sale surplus - Completed\n",
      "6. Get farm produce ready for next season - Not Completed\n",
      "Available Actions:\n",
      "1. Add Task\n",
      "2. Mark Task as Completed\n",
      "3. List Tasks\n",
      "4. Remove Task\n",
      "5. Quit\n"
     ]
    },
    {
     "name": "stdin",
     "output_type": "stream",
     "text": [
      "Select an action (1-5):  4\n",
      "Enter task index to remove:  6\n"
     ]
    },
    {
     "name": "stdout",
     "output_type": "stream",
     "text": [
      "Task 'Get farm produce ready for next season' removed!\n",
      "Available Actions:\n",
      "1. Add Task\n",
      "2. Mark Task as Completed\n",
      "3. List Tasks\n",
      "4. Remove Task\n",
      "5. Quit\n"
     ]
    },
    {
     "name": "stdin",
     "output_type": "stream",
     "text": [
      "Select an action (1-5):  1\n",
      "Enter task name:  Sell surplus and get ready for the next season\n"
     ]
    },
    {
     "name": "stdout",
     "output_type": "stream",
     "text": [
      "Task added!\n",
      "Available Actions:\n",
      "1. Add Task\n",
      "2. Mark Task as Completed\n",
      "3. List Tasks\n",
      "4. Remove Task\n",
      "5. Quit\n"
     ]
    },
    {
     "name": "stdin",
     "output_type": "stream",
     "text": [
      "Select an action (1-5):  3\n"
     ]
    },
    {
     "name": "stdout",
     "output_type": "stream",
     "text": [
      "Tasks:\n",
      "0. Get adequate land and prepare ready for planting - Completed\n",
      "1. Avail adequate farm inputs - Completed\n",
      "2. Source out for adequate labour - Completed\n",
      "3. Undertake the actual planting - Completed\n",
      "4. Monitor growth of palnts till maturity - Completed\n",
      "5. Hervest, dry and sale surplus - Completed\n",
      "6. Sell surplus and get ready for the next season - Not Completed\n",
      "Available Actions:\n",
      "1. Add Task\n",
      "2. Mark Task as Completed\n",
      "3. List Tasks\n",
      "4. Remove Task\n",
      "5. Quit\n"
     ]
    },
    {
     "name": "stdin",
     "output_type": "stream",
     "text": [
      "Select an action (1-5):  2\n",
      "Enter task index to mark as completed:  6\n"
     ]
    },
    {
     "name": "stdout",
     "output_type": "stream",
     "text": [
      "Task marked as completed!\n",
      "Available Actions:\n",
      "1. Add Task\n",
      "2. Mark Task as Completed\n",
      "3. List Tasks\n",
      "4. Remove Task\n",
      "5. Quit\n"
     ]
    },
    {
     "name": "stdin",
     "output_type": "stream",
     "text": [
      "Select an action (1-5):  5\n"
     ]
    },
    {
     "name": "stdout",
     "output_type": "stream",
     "text": [
      "Goodbye!\n"
     ]
    }
   ],
   "source": [
    "## Initialize an empty list to store tasks\n",
    "tasks = []\n",
    "\n",
    "# Function to display the available actions\n",
    "def display_actions():\n",
    "    print(\"Available Actions:\")\n",
    "    print(\"1. Add Task\")\n",
    "    print(\"2. Mark Task as Completed\")\n",
    "    print(\"3. List Tasks\")\n",
    "    print(\"4. Remove Task\")\n",
    "    print(\"5. Quit\")\n",
    "\n",
    "# Function to add a task\n",
    "def add_task():\n",
    "    task_name = input(\"Enter task name: \")\n",
    "    tasks.append({\"name\": task_name, \"completed\": False})\n",
    "    print(\"Task added!\")\n",
    "\n",
    "# Function to mark a task as completed\n",
    "def mark_completed():\n",
    "    task_index = int(input(\"Enter task index to mark as completed: \"))\n",
    "    if 0 <= task_index < len(tasks):\n",
    "        tasks[task_index][\"completed\"] = True\n",
    "        print(\"Task marked as completed!\")\n",
    "    else:\n",
    "        print(\"Invalid task index.\")\n",
    "\n",
    "# Function to list tasks\n",
    "def list_tasks():\n",
    "    print(\"Tasks:\")\n",
    "    for index, task in enumerate(tasks):\n",
    "        status = \"Completed\" if task[\"completed\"] else \"Not Completed\"\n",
    "        print(f\"{index}. {task['name']} - {status}\")\n",
    "\n",
    "# Function to remove a task\n",
    "def remove_task():\n",
    "    task_index = int(input(\"Enter task index to remove: \"))\n",
    "    if 0 <= task_index < len(tasks):\n",
    "        removed_task = tasks.pop(task_index)\n",
    "        print(f\"Task '{removed_task['name']}' removed!\")\n",
    "    else:\n",
    "        print(\"Invalid task index.\")\n",
    "\n",
    "# Main program loop\n",
    "def main():\n",
    "    print(\"Welcome to the Farming To-Do List Manager!\")\n",
    "    while True:\n",
    "        display_actions()\n",
    "        choice = input(\"Select an action (1-5): \")\n",
    "        \n",
    "        if choice == \"1\":\n",
    "            add_task()\n",
    "        elif choice == \"2\":\n",
    "            mark_completed()\n",
    "        elif choice == \"3\":\n",
    "            list_tasks()\n",
    "        elif choice == \"4\":\n",
    "            remove_task()\n",
    "        elif choice == \"5\":\n",
    "            print(\"Goodbye!\")\n",
    "            break\n",
    "        else:\n",
    "            print(\"Invalid choice. Please select a valid action.\")\n",
    "\n",
    "if __name__ == \"__main__\":\n",
    "    main()"
   ]
  },
  {
   "cell_type": "code",
   "execution_count": null,
   "id": "218281a8-1b26-4f7b-a700-836a96946be4",
   "metadata": {},
   "outputs": [],
   "source": []
  }
 ],
 "metadata": {
  "kernelspec": {
   "display_name": "Python 3 (ipykernel)",
   "language": "python",
   "name": "python3"
  },
  "language_info": {
   "codemirror_mode": {
    "name": "ipython",
    "version": 3
   },
   "file_extension": ".py",
   "mimetype": "text/x-python",
   "name": "python",
   "nbconvert_exporter": "python",
   "pygments_lexer": "ipython3",
   "version": "3.11.3"
  }
 },
 "nbformat": 4,
 "nbformat_minor": 5
}
